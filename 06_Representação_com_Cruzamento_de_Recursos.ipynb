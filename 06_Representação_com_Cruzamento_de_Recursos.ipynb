{
  "nbformat": 4,
  "nbformat_minor": 0,
  "metadata": {
    "colab": {
      "name": "06_Representação com Cruzamento de Recursos.ipynb",
      "provenance": [],
      "authorship_tag": "ABX9TyPI0YuXLlNLkhKY5luXAlYw",
      "include_colab_link": true
    },
    "kernelspec": {
      "name": "python3",
      "display_name": "Python 3"
    }
  },
  "cells": [
    {
      "cell_type": "markdown",
      "metadata": {
        "id": "view-in-github",
        "colab_type": "text"
      },
      "source": [
        "<a href=\"https://colab.research.google.com/github/julianox5/Desafio-Hackathon/blob/master/06_Representa%C3%A7%C3%A3o_com_Cruzamento_de_Recursos.ipynb\" target=\"_parent\"><img src=\"https://colab.research.google.com/assets/colab-badge.svg\" alt=\"Open In Colab\"/></a>"
      ]
    },
    {
      "cell_type": "markdown",
      "metadata": {
        "id": "E45iimQllzzl",
        "colab_type": "text"
      },
      "source": [
        "## Representação com cruzamento de recursos \n",
        "Neste exercício, você experimentara maneiras diferentes de representar recursos.\n",
        "\n"
      ]
    },
    {
      "cell_type": "markdown",
      "metadata": {
        "id": "ijP32f_qX9RD",
        "colab_type": "text"
      },
      "source": [
        "## Objetivo do Aprendizado com os Exercícios\n",
        "\n",
        "Depois do exercícios, você saberá: \n",
        "* Usar o Método [`tf.feature_column`] para representar os recurso de maneiras diferentes\n",
        "* Representar recursos como `caixas` `(bins)`.\n",
        "* Caixas cruzadas para criar uma feature cross.\n"
      ]
    },
    {
      "cell_type": "markdown",
      "metadata": {
        "id": "iRIyt3LTcBDp",
        "colab_type": "text"
      },
      "source": [
        "## O Conjunto de Dados\n",
        "Como os exercícios anteriores, usaremos o conjunto de dados de habitação da Califórnia "
      ]
    },
    {
      "cell_type": "markdown",
      "metadata": {
        "id": "WZAzPBrHcQhh",
        "colab_type": "text"
      },
      "source": [
        "## Usando a versão correta do TensorFlow"
      ]
    },
    {
      "cell_type": "code",
      "metadata": {
        "id": "U3_vecusceNp",
        "colab_type": "code",
        "colab": {}
      },
      "source": [
        "%tensorflow_version 2.x"
      ],
      "execution_count": 0,
      "outputs": []
    },
    {
      "cell_type": "markdown",
      "metadata": {
        "id": "uWaIydTxcus6",
        "colab_type": "text"
      },
      "source": [
        "## Chamar as intruções de importação \n",
        "O codigo abaixo importa os códigos necessários para executar o código que vamos criar"
      ]
    },
    {
      "cell_type": "code",
      "metadata": {
        "id": "mSml5SI-dMPc",
        "colab_type": "code",
        "colab": {}
      },
      "source": [
        "import numpay as np \n",
        "import pandas as pd\n",
        "import tensorflow as tf\n",
        "\n",
        "from tensorflow import feature_column\n",
        "from tensorflow.keras import layers\n",
        "\n",
        "from matplotlib import pyplot as plt \n"
      ],
      "execution_count": 0,
      "outputs": []
    }
  ]
}