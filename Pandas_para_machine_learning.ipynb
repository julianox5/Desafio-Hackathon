{
  "nbformat": 4,
  "nbformat_minor": 0,
  "metadata": {
    "colab": {
      "name": "Pandas-para-machine-learning.ipynb",
      "provenance": [],
      "toc_visible": true,
      "authorship_tag": "ABX9TyNk3pwTE23MdU49gjSLGQCu",
      "include_colab_link": true
    },
    "kernelspec": {
      "name": "python3",
      "display_name": "Python 3"
    }
  },
  "cells": [
    {
      "cell_type": "markdown",
      "metadata": {
        "id": "view-in-github",
        "colab_type": "text"
      },
      "source": [
        "<a href=\"https://colab.research.google.com/github/julianox5/Desafio-Hackathon/blob/master/Pandas_para_machine_learning.ipynb\" target=\"_parent\"><img src=\"https://colab.research.google.com/assets/colab-badge.svg\" alt=\"Open In Colab\"/></a>"
      ]
    },
    {
      "cell_type": "markdown",
      "metadata": {
        "id": "xI0Nx5n63Lck",
        "colab_type": "text"
      },
      "source": [
        "## Pandas DataFrame\n",
        "**DataFrames** são a estrutura central de dados da API do pandas, É semelhante a uma planilha :\n"
      ]
    },
    {
      "cell_type": "markdown",
      "metadata": {
        "id": "BF6lGZm74J9e",
        "colab_type": "text"
      },
      "source": [
        "##Importando módulos NumPy e Pandas"
      ]
    },
    {
      "cell_type": "code",
      "metadata": {
        "id": "SlN1E_c24Iij",
        "colab_type": "code",
        "colab": {}
      },
      "source": [
        "import numpy  as np\n",
        "import pandas as pd"
      ],
      "execution_count": 0,
      "outputs": []
    },
    {
      "cell_type": "markdown",
      "metadata": {
        "id": "vo473fjB4ZmE",
        "colab_type": "text"
      },
      "source": [
        "## Criando um DataFrame\n",
        "Instanciar uma pd.DataFrame classe para gerar um DataFrame com 10 celulas, 5 linhas e 2 colunas nomeadas  "
      ]
    },
    {
      "cell_type": "code",
      "metadata": {
        "id": "0-MuSQWM5Ll8",
        "colab_type": "code",
        "outputId": "26842f80-7671-4ffc-fbcd-3d25d96cca2c",
        "colab": {
          "base_uri": "https://localhost:8080/",
          "height": 123
        }
      },
      "source": [
        "# Criandp e preenchendpo uma matriz NumPy 5x2\n",
        "meus_dados = np.array([[0,3] , [10,7] , [20,9] ,[30,14] , [40,15]])\n",
        "\n",
        "# Criando lista para os nomes das 2 colunas\n",
        "nomes_colunas = ['temperatura' , 'atividade']\n",
        "\n",
        "# criando um DataFrame\n",
        "meu_dataframe = pd.DataFrame (data=meus_dados, columns=nomes_colunas)\n",
        "\n",
        "# imprimindo o DataFrame\n",
        "print(meu_dataframe)"
      ],
      "execution_count": 33,
      "outputs": [
        {
          "output_type": "stream",
          "text": [
            "   temperatura  atividade\n",
            "0            0          3\n",
            "1           10          7\n",
            "2           20          9\n",
            "3           30         14\n",
            "4           40         15\n"
          ],
          "name": "stdout"
        }
      ]
    },
    {
      "cell_type": "markdown",
      "metadata": {
        "id": "oog_yY7A-2F4",
        "colab_type": "text"
      },
      "source": [
        "#Adicionando coluna a um DataFrame\n",
        "Criando uma terceira coluna"
      ]
    },
    {
      "cell_type": "code",
      "metadata": {
        "id": "UfBbnEik_En0",
        "colab_type": "code",
        "colab": {
          "base_uri": "https://localhost:8080/",
          "height": 185
        },
        "outputId": "9c32e73b-6663-4d8c-bd5e-dc118b653bb6"
      },
      "source": [
        "#Criando uma nova coluna \n",
        "meu_dataframe[\"ajustado\"] = meu_dataframe[\"atividade\"]\n",
        "print(meu_dataframe)"
      ],
      "execution_count": 32,
      "outputs": [
        {
          "output_type": "error",
          "ename": "NameError",
          "evalue": "ignored",
          "traceback": [
            "\u001b[0;31m---------------------------------------------------------------------------\u001b[0m",
            "\u001b[0;31mNameError\u001b[0m                                 Traceback (most recent call last)",
            "\u001b[0;32m<ipython-input-32-cd2b806aea8d>\u001b[0m in \u001b[0;36m<module>\u001b[0;34m()\u001b[0m\n\u001b[0;32m----> 1\u001b[0;31m \u001b[0mmeu_dataframe\u001b[0m\u001b[0;34m[\u001b[0m\u001b[0;34m\"ajustado\"\u001b[0m\u001b[0;34m]\u001b[0m \u001b[0;34m=\u001b[0m \u001b[0mmeu_dataframe\u001b[0m\u001b[0;34m[\u001b[0m\u001b[0;34m\"atividade\"\u001b[0m\u001b[0;34m]\u001b[0m\u001b[0;34m\u001b[0m\u001b[0;34m\u001b[0m\u001b[0m\n\u001b[0m\u001b[1;32m      2\u001b[0m \u001b[0mprint\u001b[0m\u001b[0;34m(\u001b[0m\u001b[0mmeu_dataframe\u001b[0m\u001b[0;34m)\u001b[0m\u001b[0;34m\u001b[0m\u001b[0;34m\u001b[0m\u001b[0m\n",
            "\u001b[0;31mNameError\u001b[0m: name 'meu_dataframe' is not defined"
          ]
        }
      ]
    },
    {
      "cell_type": "markdown",
      "metadata": {
        "id": "v2S4pt3kFNkb",
        "colab_type": "text"
      },
      "source": [
        "#Maneiras de isolar linhas,colunas ou celulas em um DataFrame"
      ]
    },
    {
      "cell_type": "code",
      "metadata": {
        "colab_type": "code",
        "id": "wHY0ssyLHCIE",
        "colab": {
          "base_uri": "https://localhost:8080/",
          "height": 256
        },
        "outputId": "22db4f03-476a-4081-ded3-56b4a0429224"
      },
      "source": [
        "print(\"Meu DataFrame Completo:\")\n",
        "print(meu_dataframe, '\\n')\n",
        "\n",
        "print(\"Linhas 0 e 1:\")\n",
        "print(meu_dataframe.head(2), '\\n')\n",
        "\n",
        "print(\"Linha 1:\")\n",
        "print(meu_dataframe.iloc[[1]], '\\n')\n",
        "\n",
        "print(\"Linhas 1, 2 e 3:\")\n",
        "print(meu_dataframe[ 1 : 4], '\\n')\n",
        "\n",
        "print(\"Coluna 'temperatura' :\")\n",
        "print(meu_dataframe['temperatura'])\n"
      ],
      "execution_count": 31,
      "outputs": [
        {
          "output_type": "stream",
          "text": [
            "Meu DataFrame Completo:\n"
          ],
          "name": "stdout"
        },
        {
          "output_type": "error",
          "ename": "NameError",
          "evalue": "ignored",
          "traceback": [
            "\u001b[0;31m---------------------------------------------------------------------------\u001b[0m",
            "\u001b[0;31mNameError\u001b[0m                                 Traceback (most recent call last)",
            "\u001b[0;32m<ipython-input-31-7931d4e129dd>\u001b[0m in \u001b[0;36m<module>\u001b[0;34m()\u001b[0m\n\u001b[1;32m      1\u001b[0m \u001b[0mprint\u001b[0m\u001b[0;34m(\u001b[0m\u001b[0;34m\"Meu DataFrame Completo:\"\u001b[0m\u001b[0;34m)\u001b[0m\u001b[0;34m\u001b[0m\u001b[0;34m\u001b[0m\u001b[0m\n\u001b[0;32m----> 2\u001b[0;31m \u001b[0mprint\u001b[0m\u001b[0;34m(\u001b[0m\u001b[0mmeu_dataframe\u001b[0m\u001b[0;34m,\u001b[0m \u001b[0;34m'\\n'\u001b[0m\u001b[0;34m)\u001b[0m\u001b[0;34m\u001b[0m\u001b[0;34m\u001b[0m\u001b[0m\n\u001b[0m\u001b[1;32m      3\u001b[0m \u001b[0;34m\u001b[0m\u001b[0m\n\u001b[1;32m      4\u001b[0m \u001b[0mprint\u001b[0m\u001b[0;34m(\u001b[0m\u001b[0;34m\"Linhas 0 e 1:\"\u001b[0m\u001b[0;34m)\u001b[0m\u001b[0;34m\u001b[0m\u001b[0;34m\u001b[0m\u001b[0m\n\u001b[1;32m      5\u001b[0m \u001b[0mprint\u001b[0m\u001b[0;34m(\u001b[0m\u001b[0mmeu_dataframe\u001b[0m\u001b[0;34m.\u001b[0m\u001b[0mhead\u001b[0m\u001b[0;34m(\u001b[0m\u001b[0;36m2\u001b[0m\u001b[0;34m)\u001b[0m\u001b[0;34m,\u001b[0m \u001b[0;34m'\\n'\u001b[0m\u001b[0;34m)\u001b[0m\u001b[0;34m\u001b[0m\u001b[0;34m\u001b[0m\u001b[0m\n",
            "\u001b[0;31mNameError\u001b[0m: name 'meu_dataframe' is not defined"
          ]
        }
      ]
    },
    {
      "cell_type": "markdown",
      "metadata": {
        "id": "6B4N1YV4HETh",
        "colab_type": "text"
      },
      "source": [
        "#Tarefa 1 : Criar Um DataFrame\n",
        "Seguir as etapas:\n",
        "1. Criar um Pandas Dataframe 3x4, colunas nomeadas  \n",
        "2. Imprimir o valor da segunda linha da 1º coluna\n",
        "3.Criar nova coluna, cujo o conteúdo é a soma Nº de duas outras colunas. "
      ]
    },
    {
      "cell_type": "code",
      "metadata": {
        "id": "cihQZRLeHw-D",
        "colab_type": "code",
        "outputId": "c3291728-d2c4-415a-a459-459f9d921d38",
        "colab": {
          "base_uri": "https://localhost:8080/",
          "height": 212
        }
      },
      "source": [
        "#criando uma lista python que contenha os nomes das colunas\n",
        "coluna_nome = ['Eleanor','Chidi','Tahani','Jason']\n",
        "\n",
        "#Criand uma matriz numpy 3x4 prenchida com números int aleatórios, numpy.random.randint()\n",
        "input_matriz = np.random.randint(low=10, high=100, size = (3,4))\n",
        "tarefa_dataframe = pd.DataFrame(data=input_matriz, columns=coluna_nome)\n",
        "print(tarefa_dataframe)\n",
        "\n",
        "#Imprimindo 2ºlinha 1ºcoluna\n",
        "print(\"\\n Segunda linha da coluna Eleanor: %d \\n \"%tarefa_dataframe['Eleanor'][1])\n",
        "\n",
        "#Criando nova coluna Janet, seu conreúdo será a soma nº de duas outras colunas\n",
        "tarefa_dataframe['Janet'] = tarefa_dataframe['Tahani'] + tarefa_dataframe['Jason']\n",
        "print(tarefa_dataframe)"
      ],
      "execution_count": 13,
      "outputs": [
        {
          "output_type": "stream",
          "text": [
            "   Eleanor  Chidi  Tahani  Jason\n",
            "0       55     19      24     45\n",
            "1       66     51      54     70\n",
            "2       61     62      67     82\n",
            "\n",
            " Segunda linha da coluna Eleanor: 66 \n",
            " \n",
            "   Eleanor  Chidi  Tahani  Jason  Janet\n",
            "0       55     19      24     45     69\n",
            "1       66     51      54     70    124\n",
            "2       61     62      67     82    149\n"
          ],
          "name": "stdout"
        }
      ]
    },
    {
      "cell_type": "markdown",
      "metadata": {
        "id": "d7excXU4Rd2b",
        "colab_type": "text"
      },
      "source": [
        "#Criar uma copia de um DataFrame\n",
        "Existe duas maneiras de fazer isso \n",
        "* Por Referência, atribuindo um DataFrame a uma variável, qualquer alteraçõe em um vai alterar outro\n",
        "* Copiando o método pandas.DataFrame.copy criará uma cópia, e se fizer alterção na copia não irá alterar no original\n"
      ]
    },
    {
      "cell_type": "code",
      "metadata": {
        "id": "f2NfxSLNTNGp",
        "colab_type": "code",
        "colab": {
          "base_uri": "https://localhost:8080/",
          "height": 318
        },
        "outputId": "5c666be1-b3c4-41a8-f23e-de4dd2cbfda0"
      },
      "source": [
        "# Criando uma referência atribuindo meu_dataframe a uma variavel \n",
        "print\n",
        "referencia_df = tarefa_dataframe\n",
        "print(\"'Copiando um DataFrame por referencia \\n\")\n",
        "#Imprimindo o valor inicial de uma célula \n",
        "print(\"Valor inicial tarefa_DataFrame: %d \" %tarefa_dataframe['Jason'][1])\n",
        "print(\"Valor inicial referencia_df %d\\n\\n\"%referencia_df['Jason'][1])\n",
        "\n",
        "#Modificando a célula do tarefa_dataframe\n",
        "tarefa_dataframe.at[1,'Jason'] = tarefa_dataframe['Jason'][1]+3\n",
        "print(\"Atualizando tarefa_dataframe: %d\"%tarefa_dataframe['Jason'][1])\n",
        "print(\"Atualizando referencia_df: %d\\n\\n\"%referencia_df['Jason'][1])\n",
        "\n",
        "#Criando uma copia do meu_dataframe\n",
        "copia_df = meu_dataframe.copy()\n",
        "print(\"-Criando uma copia do DataFrame\\n\")\n",
        "\n",
        "#imprimindo valores iniciais\n",
        "print(\"Valor inicial do meu_dataframe: %d\"%meu_dataframe['atividade'][1])\n",
        "print(\"Valor inicial do copia_df: %d\\n\"%copia_df['atividade'][1])\n",
        "\n",
        "#Atualizando valores do meu dataframe original e verificando se teve\n",
        "#alguma alteração na minha cópia\n",
        "meu_dataframe.at[1,'atividade'] = meu_dataframe['atividade'][1]+2\n",
        "print(\"Alterando valores do meu_dataframe: %d\"%meu_dataframe['atividade'][1])\n",
        "print(\"Mostrar se teve alteração na minha copia_df: %d\" %copia_df['atividade'][1])\n"
      ],
      "execution_count": 42,
      "outputs": [
        {
          "output_type": "stream",
          "text": [
            "'Copiando um DataFrame por referencia \n",
            "\n",
            "Valor inicial tarefa_DataFrame: 101 \n",
            "Valor inicial referencia_df 101\n",
            "\n",
            "\n",
            "Atualizando tarefa_dataframe: 104\n",
            "Atualizando referencia_df: 104\n",
            "\n",
            "\n",
            "-Criando uma copia do DataFrame\n",
            "\n",
            "Valor inicial do meu_dataframe: 11\n",
            "Valor inicial do copia_df: 11\n",
            "\n",
            "Alterando valores do meu_dataframe: 13\n",
            "Mostrar se teve alteração na minha copia_df: 11\n"
          ],
          "name": "stdout"
        }
      ]
    }
  ]
}